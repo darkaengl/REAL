{
 "cells": [
  {
   "cell_type": "code",
   "execution_count": 1,
   "metadata": {},
   "outputs": [],
   "source": [
    "from IPython.core.magic import register_line_cell_magic\n",
    "\n",
    "@register_line_cell_magic\n",
    "def writetemplate(line, cell):\n",
    "    with open(line, 'w') as f:\n",
    "        f.write(cell.format(**globals()))"
   ]
  },
  {
   "cell_type": "code",
   "execution_count": 2,
   "metadata": {},
   "outputs": [
    {
     "name": "stdout",
     "output_type": "stream",
     "text": [
      "Elasticnet model (alpha=0.500000, l1_ratio=0.500000):\n",
      "  RMSE: 0.7931640229276851\n",
      "  MAE: 0.6271946374319586\n",
      "  R2: 0.10862644997792614\n",
      "Successfully registered model 'sk-learn-elasticnet-model'.\n",
      "2024/11/01 15:28:43 INFO mlflow.store.model_registry.abstract_store: Waiting up to 300 seconds for model version to finish creation. Model name: sk-learn-elasticnet-model, version 1\n",
      "Created version '1' of model 'sk-learn-elasticnet-model'.\n",
      "2024/11/01 15:28:43 INFO mlflow.tracking._tracking_service.client: 🏃 View run enchanting-frog-962 at: http://127.0.0.1:5000/#/experiments/2/runs/31da90c1919343d3886b6e54464033c0.\n",
      "2024/11/01 15:28:43 INFO mlflow.tracking._tracking_service.client: 🧪 View experiment at: http://127.0.0.1:5000/#/experiments/2.\n"
     ]
    }
   ],
   "source": [
    "!python train.py"
   ]
  },
  {
   "cell_type": "code",
   "execution_count": 3,
   "metadata": {},
   "outputs": [
    {
     "name": "stdout",
     "output_type": "stream",
     "text": [
      "ls: cannot access '{model_path}': No such file or directory\n"
     ]
    }
   ],
   "source": [
    "!ls {model_path} "
   ]
  },
  {
   "cell_type": "code",
   "execution_count": 4,
   "metadata": {},
   "outputs": [],
   "source": [
    "%%writetemplate ./model-settings.json\n",
    "{{\n",
    "    \"name\": \"wine-classifier\",\n",
    "    \"implementation\": \"mlserver_mlflow.MLflowRuntime\",\n",
    "    \"parameters\": {{\n",
    "        \"uri\": \"NA\"\n",
    "    }}\n",
    "}}"
   ]
  },
  {
   "cell_type": "code",
   "execution_count": 7,
   "metadata": {},
   "outputs": [
    {
     "data": {
      "text/plain": [
       "{'predictions': [5.576883967129615]}"
      ]
     },
     "execution_count": 7,
     "metadata": {},
     "output_type": "execute_result"
    }
   ],
   "source": [
    "import requests\n",
    "\n",
    "inference_request = {\n",
    "    \"dataframe_split\": {\n",
    "        \"columns\": [\n",
    "            \"fixed acidity\",\n",
    "            \"volatile acidity\",\n",
    "            \"citric acid\",\n",
    "            \"residual sugar\",\n",
    "            \"chlorides\",\n",
    "            \"free sulfur dioxide\",\n",
    "            \"total sulfur dioxide\",\n",
    "            \"density\",\n",
    "            \"pH\",\n",
    "            \"sulphates\",\n",
    "            \"alcohol\",\n",
    "        ],\n",
    "        \"data\": [[7.4,0.7,0,1.9,0.076,11,34,0.9978,3.51,0.56,9.4]]\n",
    "    }\n",
    "}\n",
    "\n",
    "endpoint = \"http://localhost:8080/invocations\"\n",
    "response = requests.post(endpoint, json=inference_request)\n",
    "\n",
    "response.json()"
   ]
  },
  {
   "cell_type": "code",
   "execution_count": null,
   "metadata": {},
   "outputs": [],
   "source": []
  }
 ],
 "metadata": {
  "kernelspec": {
   "display_name": ".real_env",
   "language": "python",
   "name": "python3"
  },
  "language_info": {
   "codemirror_mode": {
    "name": "ipython",
    "version": 3
   },
   "file_extension": ".py",
   "mimetype": "text/x-python",
   "name": "python",
   "nbconvert_exporter": "python",
   "pygments_lexer": "ipython3",
   "version": "3.10.12"
  }
 },
 "nbformat": 4,
 "nbformat_minor": 2
}
