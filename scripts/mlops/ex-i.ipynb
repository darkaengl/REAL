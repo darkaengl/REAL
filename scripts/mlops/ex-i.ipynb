{
 "cells": [
  {
   "cell_type": "code",
   "execution_count": 1,
   "metadata": {},
   "outputs": [],
   "source": [
    "import mlflow\n",
    "from mlflow.models import infer_signature\n",
    "\n",
    "import ultralytics\n",
    "import time\n",
    "import cv2\n",
    "import torch\n",
    "import numpy as np\n",
    "import os\n",
    "import onnx\n",
    "\n",
    "from ultralytics import YOLO"
   ]
  },
  {
   "cell_type": "code",
   "execution_count": 18,
   "metadata": {},
   "outputs": [
    {
     "name": "stdout",
     "output_type": "stream",
     "text": [
      "PRO TIP 💡 Replace 'model=yolov5m.pt' with new 'model=yolov5mu.pt'.\n",
      "YOLOv5 'u' models are trained with https://github.com/ultralytics/ultralytics and feature improved performance vs standard YOLOv5 models trained with https://github.com/ultralytics/yolov5.\n",
      "\n",
      "Ultralytics 8.3.21 🚀 Python-3.10.12 torch-2.5.0+cu124 CPU (13th Gen Intel Core(TM) i7-13700HX)\n",
      "YOLOv5m summary (fused): 248 layers, 25,091,536 parameters, 0 gradients, 64.2 GFLOPs\n",
      "\n",
      "\u001b[34m\u001b[1mPyTorch:\u001b[0m starting from 'yolov5mu.pt' with input shape (1, 3, 640, 640) BCHW and output shape(s) (1, 84, 8400) (48.2 MB)\n",
      "\n",
      "\u001b[34m\u001b[1mONNX:\u001b[0m starting export with onnx 1.17.0 opset 19...\n",
      "\u001b[34m\u001b[1mONNX:\u001b[0m slimming with onnxslim 0.1.36...\n",
      "\u001b[34m\u001b[1mONNX:\u001b[0m export success ✅ 1.0s, saved as 'yolov5mu.onnx' (96.0 MB)\n",
      "\n",
      "Export complete (1.4s)\n",
      "Results saved to \u001b[1m/home/darkaengl/Project/REAL/scripts/mlops\u001b[0m\n",
      "Predict:         yolo predict task=detect model=yolov5mu.onnx imgsz=640  \n",
      "Validate:        yolo val task=detect model=yolov5mu.onnx imgsz=640 data=coco.yaml  \n",
      "Visualize:       https://netron.app\n"
     ]
    },
    {
     "name": "stderr",
     "output_type": "stream",
     "text": [
      "2024/11/05 11:31:25 WARNING mlflow.models.model: Model logged without a signature and input example. Please set `input_example` parameter when logging the model to auto infer the model signature.\n",
      "Registered model 'yolov5m' already exists. Creating a new version of this model...\n",
      "2024/11/05 11:31:25 INFO mlflow.store.model_registry.abstract_store: Waiting up to 300 seconds for model version to finish creation. Model name: yolov5m, version 2\n",
      "Created version '2' of model 'yolov5m'.\n"
     ]
    }
   ],
   "source": [
    "os.environ[\"MLFLOW_TRACKING_URI\"] = \"http://127.0.0.1:5000\"\n",
    "\n",
    "# # Set our tracking server uri for logging\n",
    "mlflow.set_tracking_uri(uri=\"http://127.0.0.1:5000\")\n",
    "\n",
    "# # Create a new MLflow Experiment\n",
    "mlflow.set_experiment(\"YOLO Models\")\n",
    "\n",
    "# Create a new YOLO model from scratch\n",
    "# model = YOLO(\"yolo11n.yaml\")\n",
    "\n",
    "model_name = 'yolov5m'\n",
    "\n",
    "# Load a pretrained YOLO model (recommended for training)\n",
    "model = YOLO(f\"{model_name}.pt\")\n",
    "# yolo_model = torch.hub.load(f'ultralytics/yolov6', model_name, pretrained=True)\n",
    "model = model.export(format='onnx')\n",
    "\n",
    "onnx_model = onnx.load(model)\n",
    "\n",
    "mlflow_model = mlflow.onnx.log_model(onnx_model, artifact_path=model_name, registered_model_name=model_name)"
   ]
  },
  {
   "cell_type": "code",
   "execution_count": 12,
   "metadata": {},
   "outputs": [],
   "source": []
  },
  {
   "cell_type": "code",
   "execution_count": 37,
   "metadata": {},
   "outputs": [
    {
     "data": {
      "text/plain": [
       "(3, 640, 640)"
      ]
     },
     "execution_count": 37,
     "metadata": {},
     "output_type": "execute_result"
    }
   ],
   "source": [
    "from PIL import Image\n",
    "\n",
    "img = '/home/darkaengl/Project/REAL/scripts/mlops/coco8/images/train/000000000025.jpg'\n",
    "img = Image.open(img).resize([640, 640])\n",
    "img = np.asarray(img).transpose(2,1,0)\n",
    "# img = np.ascontiguousarray(img)\n",
    "img.shape"
   ]
  },
  {
   "cell_type": "code",
   "execution_count": 38,
   "metadata": {},
   "outputs": [
    {
     "data": {
      "text/plain": [
       "numpy.ndarray"
      ]
     },
     "execution_count": 38,
     "metadata": {},
     "output_type": "execute_result"
    }
   ],
   "source": [
    "type(img)"
   ]
  },
  {
   "cell_type": "code",
   "execution_count": 41,
   "metadata": {},
   "outputs": [],
   "source": [
    "from mlserver.codecs import NumpyRequestCodec\n",
    "from mlserver.codecs import NumpyCodec\n",
    "from mlserver.types import InferenceRequest\n",
    "import requests"
   ]
  },
  {
   "cell_type": "code",
   "execution_count": 42,
   "metadata": {},
   "outputs": [],
   "source": [
    "inference_request = InferenceRequest(\n",
    "    inputs = [\n",
    "        NumpyCodec.encode_input(\"image\", img)\n",
    "    ]\n",
    ")"
   ]
  },
  {
   "cell_type": "code",
   "execution_count": 43,
   "metadata": {},
   "outputs": [],
   "source": [
    "# inference_request.model_dump()"
   ]
  },
  {
   "cell_type": "code",
   "execution_count": 44,
   "metadata": {},
   "outputs": [
    {
     "data": {
      "text/plain": [
       "True"
      ]
     },
     "execution_count": 44,
     "metadata": {},
     "output_type": "execute_result"
    }
   ],
   "source": [
    "import requests\n",
    "# endpoint = \"http://localhost:8080/invocations\"\n",
    "# response = requests.post(endpoint, json=inference_request)\n",
    "# response = requests.post(endpoint, files={\"file\": img})\n",
    "r = requests.post('http://0.0.0.0:8080/v2/models/yolo_models/infer', json=inference_request.model_dump())\n",
    "r.json()['outputs'][0]['data'][0] =='false'"
   ]
  },
  {
   "cell_type": "code",
   "execution_count": 41,
   "metadata": {},
   "outputs": [],
   "source": [
    "# onnx.checker.check_model(onnx_model)"
   ]
  },
  {
   "cell_type": "code",
   "execution_count": 1,
   "metadata": {},
   "outputs": [],
   "source": [
    "# import torch\n",
    "# import torch.nn as nn\n",
    "\n",
    "# class YOLOWithFFNN(nn.Module):\n",
    "#     def __init__(self, yolo_model, num_ffnn_outputs=10, freeze_yolo=True):\n",
    "#         super(YOLOWithFFNN, self).__init__()\n",
    "\n",
    "#         # Load the pretrained YOLOv5 model\n",
    "#         yolov5_model = yolo_model\n",
    "#         yolov5_model.eval()  # Set YOLO to evaluation mode\n",
    "\n",
    "#         model_structure = yolov5_model.model.model\n",
    "\n",
    "#         # Optionally freeze YOLO parameters\n",
    "#         if freeze_yolo:\n",
    "#             for param in yolov5_model.parameters():\n",
    "#                 param.requires_grad = False\n",
    "\n",
    "#         # Use all layers except the last detection layer (if extracting features)\n",
    "#         self.yolo_feature_extractor = nn.Sequential(*list(model_structure.children())[:-1])  # Up to last layer\n",
    "\n",
    "#         # Define the feed-forward neural network\n",
    "#         # Adjust input dimension based on YOLO's feature output shape\n",
    "#         self.flatten = nn.Flatten()\n",
    "#         self.ffnn = nn.Sequential(\n",
    "#             nn.Linear(512 * 20 * 20, 1024),  # Replace 512, 20, 20 with appropriate dimensions\n",
    "#             nn.ReLU(),\n",
    "#             nn.Linear(1024, 512),\n",
    "#             nn.ReLU(),\n",
    "#             nn.Linear(512, num_ffnn_outputs)  # Final output layer\n",
    "#         )\n",
    "\n",
    "#     def forward(self, x):\n",
    "#         # Forward pass through YOLO feature extractor\n",
    "#         yolo_features = self.yolo_feature_extractor(x)\n",
    "        \n",
    "#         # Flatten YOLO features and pass through FFNN\n",
    "#         yolo_features = self.flatten(yolo_features)\n",
    "#         output = self.ffnn(yolo_features)\n",
    "#         return output\n",
    "\n",
    "# # Instantiate the model with a YOLOv5 model file\n",
    "# yolo_ffnn_model = YOLOWithFFNN(yolo_model, num_ffnn_outputs=10)\n",
    "\n",
    "# # Example input tensor\n",
    "# input_tensor = torch.randn(1, 3, 640, 640)  # Adjust to match YOLO's input size\n",
    "# output = yolo_ffnn_model(input_tensor)\n",
    "\n",
    "# print(output.shape)  # Expected output shape: [batch_size, num_ffnn_outputs]\n"
   ]
  },
  {
   "cell_type": "code",
   "execution_count": null,
   "metadata": {},
   "outputs": [],
   "source": []
  }
 ],
 "metadata": {
  "kernelspec": {
   "display_name": ".real_env",
   "language": "python",
   "name": "python3"
  },
  "language_info": {
   "codemirror_mode": {
    "name": "ipython",
    "version": 3
   },
   "file_extension": ".py",
   "mimetype": "text/x-python",
   "name": "python",
   "nbconvert_exporter": "python",
   "pygments_lexer": "ipython3",
   "version": "3.10.12"
  }
 },
 "nbformat": 4,
 "nbformat_minor": 2
}
